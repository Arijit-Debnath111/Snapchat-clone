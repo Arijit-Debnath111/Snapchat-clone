{
 "cells": [
  {
   "cell_type": "code",
   "execution_count": 3,
   "id": "e29fbc14",
   "metadata": {},
   "outputs": [
    {
     "name": "stdout",
     "output_type": "stream",
     "text": [
      "Collecting opencv-python\n",
      "  Using cached opencv_python-4.5.5.62-cp36-abi3-win_amd64.whl (35.4 MB)\n",
      "Requirement already satisfied: numpy>=1.19.3 in c:\\anaconda\\lib\\site-packages (from opencv-python) (1.20.3)\n",
      "Installing collected packages: opencv-python\n",
      "Successfully installed opencv-python-4.5.5.62\n"
     ]
    }
   ],
   "source": [
    "!pip install opencv-python"
   ]
  },
  {
   "cell_type": "code",
   "execution_count": 4,
   "id": "55642672",
   "metadata": {},
   "outputs": [
    {
     "name": "stdout",
     "output_type": "stream",
     "text": [
      "Collecting cvzone\n",
      "  Downloading cvzone-1.5.5.tar.gz (12 kB)\n",
      "Requirement already satisfied: opencv-python in c:\\anaconda\\lib\\site-packages (from cvzone) (4.5.5.62)\n",
      "Requirement already satisfied: numpy in c:\\anaconda\\lib\\site-packages (from cvzone) (1.20.3)\n",
      "Building wheels for collected packages: cvzone\n",
      "  Building wheel for cvzone (setup.py): started\n",
      "  Building wheel for cvzone (setup.py): finished with status 'done'\n",
      "  Created wheel for cvzone: filename=cvzone-1.5.5-py3-none-any.whl size=18760 sha256=a10ff913b260e3dfa1f2545ccb8c992eeb5f89914a4515d87b13e0e79e9a3a3d\n",
      "  Stored in directory: c:\\users\\hp\\appdata\\local\\pip\\cache\\wheels\\24\\54\\52\\34134331d738b0bfe767f55cf7dc6e128ce983fc13e094e4da\n",
      "Successfully built cvzone\n",
      "Installing collected packages: cvzone\n",
      "Successfully installed cvzone-1.5.5\n"
     ]
    }
   ],
   "source": [
    "!pip install cvzone"
   ]
  },
  {
   "cell_type": "code",
   "execution_count": null,
   "id": "536c1dbf",
   "metadata": {},
   "outputs": [],
   "source": [
    "from cv2 import cv2\n",
    "import  cvzone\n",
    "cap = cv2.VideoCapture(0)\n",
    "cascade = cv2.CascadeClassifier('haarcascade_frontalface_default.xml')\n",
    "overlay = cv2.imread('cool.png', cv2.IMREAD_UNCHANGED)\n",
    "while True:\n",
    "    _, frame = cap.read()\n",
    "    gray_scale = cv2.cvtColor(frame, cv2.COLOR_BGR2GRAY)\n",
    "    faces = cascade.detectMultiScale(gray_scale)\n",
    "    for (x, y, w, h) in faces:\n",
    "        overlay_resize = cv2.resize(overlay, (int(w*1.5), int(h*1.5)))\n",
    "        frame = cvzone.overlayPNG(frame, overlay_resize, [x-45, y-75])\n",
    "    cv2.imshow('Snap Dude', frame)\n",
    "    if cv2.waitKey(10) == ord('q'):\n",
    "        break\n",
    "        "
   ]
  }
 ],
 "metadata": {
  "kernelspec": {
   "display_name": "Python 3 (ipykernel)",
   "language": "python",
   "name": "python3"
  },
  "language_info": {
   "codemirror_mode": {
    "name": "ipython",
    "version": 3
   },
   "file_extension": ".py",
   "mimetype": "text/x-python",
   "name": "python",
   "nbconvert_exporter": "python",
   "pygments_lexer": "ipython3",
   "version": "3.9.7"
  }
 },
 "nbformat": 4,
 "nbformat_minor": 5
}
